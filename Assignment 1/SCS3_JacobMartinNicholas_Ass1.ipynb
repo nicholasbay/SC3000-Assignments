{
 "cells": [
  {
   "cell_type": "markdown",
   "metadata": {
    "id": "6nsrxBE0zaNg"
   },
   "source": [
    "# SC3000 Assignment 1\n",
    "| Name | Matric. No. | Contributions | Percentage |\n",
    "| ---- | ----------- | ------------- | ---------- |\n",
    "| BAY YONG WEI NICHOLAS | U2221191A | • Hyperparameter tuning<br>• Analysis of results<br>• Refine notebook presentation | 1/3 |\n",
    "| JACOB AARON ROSSMAN | U2221082H | • Q-learning agent implementation and research<br>• Cleaning of code<br>• Refine notebook presentation | 1/3 |\n",
    "| MARTIN NG WEE TECK | U2221959A | • Q-learning agent implementation and research<br>• Cleaning of code, adding comments and markdown<br>• Task 3 implementation | 1/3 |"
   ]
  },
  {
   "cell_type": "markdown",
   "metadata": {
    "id": "7y6vYLmD_0mY"
   },
   "source": [
    "## Setting up environment"
   ]
  },
  {
   "cell_type": "markdown",
   "metadata": {
    "id": "QkFK0Ux8IdpY"
   },
   "source": [
    "### Installing and importing required packages"
   ]
  },
  {
   "cell_type": "code",
   "execution_count": 1,
   "metadata": {
    "ExecuteTime": {
     "end_time": "2024-03-31T15:18:54.029770Z",
     "start_time": "2024-03-31T15:18:31.938235Z"
    },
    "colab": {
     "base_uri": "https://localhost:8080/"
    },
    "id": "d4UOfECZyU6d",
    "outputId": "d56686fd-f8c7-4458-9beb-44b879a860f8"
   },
   "outputs": [
    {
     "name": "stdout",
     "output_type": "stream",
     "text": [
      "Note: you may need to restart the kernel to use updated packages.\n",
      "Note: you may need to restart the kernel to use updated packages.\n",
      "zsh:1: no matches found: gym[classic_control]\n",
      "Note: you may need to restart the kernel to use updated packages.\n",
      "Requirement already satisfied: setuptools in /Library/Frameworks/Python.framework/Versions/3.10/lib/python3.10/site-packages (69.2.0)\n",
      "Note: you may need to restart the kernel to use updated packages.\n",
      "Note: you may need to restart the kernel to use updated packages.\n",
      "Requirement already satisfied: tensorflow in /Library/Frameworks/Python.framework/Versions/3.10/lib/python3.10/site-packages (2.16.1)\n",
      "Requirement already satisfied: absl-py>=1.0.0 in /Library/Frameworks/Python.framework/Versions/3.10/lib/python3.10/site-packages (from tensorflow) (2.1.0)\n",
      "Requirement already satisfied: astunparse>=1.6.0 in /Library/Frameworks/Python.framework/Versions/3.10/lib/python3.10/site-packages (from tensorflow) (1.6.3)\n",
      "Requirement already satisfied: flatbuffers>=23.5.26 in /Library/Frameworks/Python.framework/Versions/3.10/lib/python3.10/site-packages (from tensorflow) (24.3.25)\n",
      "Requirement already satisfied: gast!=0.5.0,!=0.5.1,!=0.5.2,>=0.2.1 in /Library/Frameworks/Python.framework/Versions/3.10/lib/python3.10/site-packages (from tensorflow) (0.5.4)\n",
      "Requirement already satisfied: google-pasta>=0.1.1 in /Library/Frameworks/Python.framework/Versions/3.10/lib/python3.10/site-packages (from tensorflow) (0.2.0)\n",
      "Requirement already satisfied: h5py>=3.10.0 in /Library/Frameworks/Python.framework/Versions/3.10/lib/python3.10/site-packages (from tensorflow) (3.10.0)\n",
      "Requirement already satisfied: libclang>=13.0.0 in /Library/Frameworks/Python.framework/Versions/3.10/lib/python3.10/site-packages (from tensorflow) (18.1.1)\n",
      "Requirement already satisfied: ml-dtypes~=0.3.1 in /Library/Frameworks/Python.framework/Versions/3.10/lib/python3.10/site-packages (from tensorflow) (0.3.2)\n",
      "Requirement already satisfied: opt-einsum>=2.3.2 in /Library/Frameworks/Python.framework/Versions/3.10/lib/python3.10/site-packages (from tensorflow) (3.3.0)\n",
      "Requirement already satisfied: packaging in /Library/Frameworks/Python.framework/Versions/3.10/lib/python3.10/site-packages (from tensorflow) (21.3)\n",
      "Requirement already satisfied: protobuf!=4.21.0,!=4.21.1,!=4.21.2,!=4.21.3,!=4.21.4,!=4.21.5,<5.0.0dev,>=3.20.3 in /Library/Frameworks/Python.framework/Versions/3.10/lib/python3.10/site-packages (from tensorflow) (4.25.3)\n",
      "Requirement already satisfied: requests<3,>=2.21.0 in /Library/Frameworks/Python.framework/Versions/3.10/lib/python3.10/site-packages (from tensorflow) (2.28.1)\n",
      "Requirement already satisfied: setuptools in /Library/Frameworks/Python.framework/Versions/3.10/lib/python3.10/site-packages (from tensorflow) (69.2.0)\n",
      "Requirement already satisfied: six>=1.12.0 in /Library/Frameworks/Python.framework/Versions/3.10/lib/python3.10/site-packages (from tensorflow) (1.16.0)\n",
      "Requirement already satisfied: termcolor>=1.1.0 in /Library/Frameworks/Python.framework/Versions/3.10/lib/python3.10/site-packages (from tensorflow) (2.4.0)\n",
      "Requirement already satisfied: typing-extensions>=3.6.6 in /Library/Frameworks/Python.framework/Versions/3.10/lib/python3.10/site-packages (from tensorflow) (4.10.0)\n",
      "Requirement already satisfied: wrapt>=1.11.0 in /Library/Frameworks/Python.framework/Versions/3.10/lib/python3.10/site-packages (from tensorflow) (1.16.0)\n",
      "Requirement already satisfied: grpcio<2.0,>=1.24.3 in /Library/Frameworks/Python.framework/Versions/3.10/lib/python3.10/site-packages (from tensorflow) (1.62.1)\n",
      "Requirement already satisfied: tensorboard<2.17,>=2.16 in /Library/Frameworks/Python.framework/Versions/3.10/lib/python3.10/site-packages (from tensorflow) (2.16.2)\n",
      "Requirement already satisfied: keras>=3.0.0 in /Library/Frameworks/Python.framework/Versions/3.10/lib/python3.10/site-packages (from tensorflow) (3.1.1)\n",
      "Requirement already satisfied: tensorflow-io-gcs-filesystem>=0.23.1 in /Library/Frameworks/Python.framework/Versions/3.10/lib/python3.10/site-packages (from tensorflow) (0.36.0)\n",
      "Requirement already satisfied: numpy<2.0.0,>=1.23.5 in /Library/Frameworks/Python.framework/Versions/3.10/lib/python3.10/site-packages (from tensorflow) (1.26.4)\n",
      "Requirement already satisfied: wheel<1.0,>=0.23.0 in /Library/Frameworks/Python.framework/Versions/3.10/lib/python3.10/site-packages (from astunparse>=1.6.0->tensorflow) (0.43.0)\n",
      "Requirement already satisfied: rich in /Library/Frameworks/Python.framework/Versions/3.10/lib/python3.10/site-packages (from keras>=3.0.0->tensorflow) (13.7.1)\n",
      "Requirement already satisfied: namex in /Library/Frameworks/Python.framework/Versions/3.10/lib/python3.10/site-packages (from keras>=3.0.0->tensorflow) (0.0.7)\n",
      "Requirement already satisfied: optree in /Library/Frameworks/Python.framework/Versions/3.10/lib/python3.10/site-packages (from keras>=3.0.0->tensorflow) (0.11.0)\n",
      "Requirement already satisfied: charset-normalizer<3,>=2 in /Library/Frameworks/Python.framework/Versions/3.10/lib/python3.10/site-packages (from requests<3,>=2.21.0->tensorflow) (2.1.0)\n",
      "Requirement already satisfied: idna<4,>=2.5 in /Library/Frameworks/Python.framework/Versions/3.10/lib/python3.10/site-packages (from requests<3,>=2.21.0->tensorflow) (3.3)\n",
      "Requirement already satisfied: urllib3<1.27,>=1.21.1 in /Library/Frameworks/Python.framework/Versions/3.10/lib/python3.10/site-packages (from requests<3,>=2.21.0->tensorflow) (1.26.11)\n",
      "Requirement already satisfied: certifi>=2017.4.17 in /Library/Frameworks/Python.framework/Versions/3.10/lib/python3.10/site-packages (from requests<3,>=2.21.0->tensorflow) (2022.6.15)\n",
      "Requirement already satisfied: markdown>=2.6.8 in /Library/Frameworks/Python.framework/Versions/3.10/lib/python3.10/site-packages (from tensorboard<2.17,>=2.16->tensorflow) (3.6)\n",
      "Requirement already satisfied: tensorboard-data-server<0.8.0,>=0.7.0 in /Library/Frameworks/Python.framework/Versions/3.10/lib/python3.10/site-packages (from tensorboard<2.17,>=2.16->tensorflow) (0.7.2)\n",
      "Requirement already satisfied: werkzeug>=1.0.1 in /Library/Frameworks/Python.framework/Versions/3.10/lib/python3.10/site-packages (from tensorboard<2.17,>=2.16->tensorflow) (3.0.1)\n",
      "Requirement already satisfied: pyparsing!=3.0.5,>=2.0.2 in /Library/Frameworks/Python.framework/Versions/3.10/lib/python3.10/site-packages (from packaging->tensorflow) (3.0.9)\n",
      "Requirement already satisfied: MarkupSafe>=2.1.1 in /Library/Frameworks/Python.framework/Versions/3.10/lib/python3.10/site-packages (from werkzeug>=1.0.1->tensorboard<2.17,>=2.16->tensorflow) (2.1.3)\n",
      "Requirement already satisfied: markdown-it-py>=2.2.0 in /Library/Frameworks/Python.framework/Versions/3.10/lib/python3.10/site-packages (from rich->keras>=3.0.0->tensorflow) (3.0.0)\n",
      "Requirement already satisfied: pygments<3.0.0,>=2.13.0 in /Library/Frameworks/Python.framework/Versions/3.10/lib/python3.10/site-packages (from rich->keras>=3.0.0->tensorflow) (2.15.1)\n",
      "Requirement already satisfied: mdurl~=0.1 in /Library/Frameworks/Python.framework/Versions/3.10/lib/python3.10/site-packages (from markdown-it-py>=2.2.0->rich->keras>=3.0.0->tensorflow) (0.1.2)\n",
      "Note: you may need to restart the kernel to use updated packages.\n",
      "Requirement already satisfied: matplotlib in /Library/Frameworks/Python.framework/Versions/3.10/lib/python3.10/site-packages (3.5.2)\n",
      "Requirement already satisfied: cycler>=0.10 in /Library/Frameworks/Python.framework/Versions/3.10/lib/python3.10/site-packages (from matplotlib) (0.11.0)\n",
      "Requirement already satisfied: fonttools>=4.22.0 in /Library/Frameworks/Python.framework/Versions/3.10/lib/python3.10/site-packages (from matplotlib) (4.34.4)\n",
      "Requirement already satisfied: kiwisolver>=1.0.1 in /Library/Frameworks/Python.framework/Versions/3.10/lib/python3.10/site-packages (from matplotlib) (1.4.4)\n",
      "Requirement already satisfied: numpy>=1.17 in /Library/Frameworks/Python.framework/Versions/3.10/lib/python3.10/site-packages (from matplotlib) (1.26.4)\n",
      "Requirement already satisfied: packaging>=20.0 in /Library/Frameworks/Python.framework/Versions/3.10/lib/python3.10/site-packages (from matplotlib) (21.3)\n",
      "Requirement already satisfied: pillow>=6.2.0 in /Library/Frameworks/Python.framework/Versions/3.10/lib/python3.10/site-packages (from matplotlib) (9.2.0)\n",
      "Requirement already satisfied: pyparsing>=2.2.1 in /Library/Frameworks/Python.framework/Versions/3.10/lib/python3.10/site-packages (from matplotlib) (3.0.9)\n",
      "Requirement already satisfied: python-dateutil>=2.7 in /Library/Frameworks/Python.framework/Versions/3.10/lib/python3.10/site-packages (from matplotlib) (2.8.2)\n",
      "Requirement already satisfied: six>=1.5 in /Library/Frameworks/Python.framework/Versions/3.10/lib/python3.10/site-packages (from python-dateutil>=2.7->matplotlib) (1.16.0)\n",
      "Note: you may need to restart the kernel to use updated packages.\n",
      "Requirement already satisfied: numpy in /Library/Frameworks/Python.framework/Versions/3.10/lib/python3.10/site-packages (1.26.4)\n",
      "Note: you may need to restart the kernel to use updated packages.\n",
      "Requirement already satisfied: moviepy in /Library/Frameworks/Python.framework/Versions/3.10/lib/python3.10/site-packages (1.0.3)\n",
      "Requirement already satisfied: decorator<5.0,>=4.0.2 in /Library/Frameworks/Python.framework/Versions/3.10/lib/python3.10/site-packages (from moviepy) (4.4.2)\n",
      "Requirement already satisfied: tqdm<5.0,>=4.11.2 in /Library/Frameworks/Python.framework/Versions/3.10/lib/python3.10/site-packages (from moviepy) (4.66.2)\n",
      "Requirement already satisfied: requests<3.0,>=2.8.1 in /Library/Frameworks/Python.framework/Versions/3.10/lib/python3.10/site-packages (from moviepy) (2.28.1)\n",
      "Requirement already satisfied: proglog<=1.0.0 in /Library/Frameworks/Python.framework/Versions/3.10/lib/python3.10/site-packages (from moviepy) (0.1.10)\n",
      "Requirement already satisfied: numpy>=1.17.3 in /Library/Frameworks/Python.framework/Versions/3.10/lib/python3.10/site-packages (from moviepy) (1.26.4)\n",
      "Requirement already satisfied: imageio<3.0,>=2.5 in /Library/Frameworks/Python.framework/Versions/3.10/lib/python3.10/site-packages (from moviepy) (2.34.0)\n",
      "Requirement already satisfied: imageio-ffmpeg>=0.2.0 in /Library/Frameworks/Python.framework/Versions/3.10/lib/python3.10/site-packages (from moviepy) (0.4.9)\n",
      "Requirement already satisfied: pillow>=8.3.2 in /Library/Frameworks/Python.framework/Versions/3.10/lib/python3.10/site-packages (from imageio<3.0,>=2.5->moviepy) (9.2.0)\n",
      "Requirement already satisfied: setuptools in /Library/Frameworks/Python.framework/Versions/3.10/lib/python3.10/site-packages (from imageio-ffmpeg>=0.2.0->moviepy) (69.2.0)\n",
      "Requirement already satisfied: charset-normalizer<3,>=2 in /Library/Frameworks/Python.framework/Versions/3.10/lib/python3.10/site-packages (from requests<3.0,>=2.8.1->moviepy) (2.1.0)\n",
      "Requirement already satisfied: idna<4,>=2.5 in /Library/Frameworks/Python.framework/Versions/3.10/lib/python3.10/site-packages (from requests<3.0,>=2.8.1->moviepy) (3.3)\n",
      "Requirement already satisfied: urllib3<1.27,>=1.21.1 in /Library/Frameworks/Python.framework/Versions/3.10/lib/python3.10/site-packages (from requests<3.0,>=2.8.1->moviepy) (1.26.11)\n",
      "Requirement already satisfied: certifi>=2017.4.17 in /Library/Frameworks/Python.framework/Versions/3.10/lib/python3.10/site-packages (from requests<3.0,>=2.8.1->moviepy) (2022.6.15)\n",
      "Note: you may need to restart the kernel to use updated packages.\n",
      "Requirement already satisfied: pygame in /Library/Frameworks/Python.framework/Versions/3.10/lib/python3.10/site-packages (2.5.2)\n",
      "Note: you may need to restart the kernel to use updated packages.\n",
      "Requirement already satisfied: ffmpeg in /Library/Frameworks/Python.framework/Versions/3.10/lib/python3.10/site-packages (1.4)\n",
      "Note: you may need to restart the kernel to use updated packages.\n",
      "Requirement already satisfied: imageio-ffmpeg in /Library/Frameworks/Python.framework/Versions/3.10/lib/python3.10/site-packages (0.4.9)\n",
      "Requirement already satisfied: setuptools in /Library/Frameworks/Python.framework/Versions/3.10/lib/python3.10/site-packages (from imageio-ffmpeg) (69.2.0)\n",
      "Note: you may need to restart the kernel to use updated packages.\n"
     ]
    }
   ],
   "source": [
    "!apt-get install -y xvfb python-opengl > /dev/null 2>&1\n",
    "%pip install gym pyvirtualdisplay > /dev/null 2>&1\n",
    "%pip install gym pyvirtualdisplay > /dev/null 2>&1\n",
    "!apt-get install -y xvfb python-opengl ffmpeg > /dev/null 2>&1\n",
    "%pip install gym[classic_control]\n",
    "!apt-get update > /dev/null 2>&1\n",
    "!apt-get install cmake > /dev/null 2>&1\n",
    "%pip install --upgrade setuptools 2>&1\n",
    "%pip install ez_setup > /dev/null 2>&1\n",
    "%pip install tensorflow\n",
    "%pip install matplotlib\n",
    "%pip install numpy\n",
    "%pip install moviepy\n",
    "%pip install pygame\n",
    "\n",
    "# Required dependencies for saving the video frames\n",
    "%pip install ffmpeg\n",
    "%pip install imageio-ffmpeg"
   ]
  },
  {
   "cell_type": "code",
   "execution_count": 81,
   "metadata": {
    "ExecuteTime": {
     "start_time": "2024-03-31T15:21:22.399019Z"
    },
    "id": "CisNfsJcyXh4",
    "is_executing": true
   },
   "outputs": [],
   "source": [
    "import gym\n",
    "from gym import logger as gymlogger\n",
    "from gym.wrappers import RecordVideo\n",
    "gymlogger.set_level(40) #error only\n",
    "import tensorflow as tf\n",
    "import numpy as np\n",
    "import random\n",
    "import matplotlib\n",
    "import matplotlib.pyplot as plt\n",
    "%matplotlib inline\n",
    "import math\n",
    "import glob\n",
    "import io\n",
    "import base64\n",
    "from IPython.display import HTML\n",
    "from IPython import display as ipythondisplay\n",
    "import time\n",
    "import pickle\n",
    "import itertools\n",
    "\n",
    "import os\n",
    "# Set FFMPEG environment variable\n",
    "os.environ[\"IMAGEIO_FFMPEG_EXE\"] = \"/opt/homebrew/bin/ffmpeg\""
   ]
  },
  {
   "cell_type": "markdown",
   "metadata": {
    "id": "nNp2WsmDAEEv"
   },
   "source": [
    "### Helper function for video playback"
   ]
  },
  {
   "cell_type": "code",
   "execution_count": 3,
   "metadata": {
    "colab": {
     "base_uri": "https://localhost:8080/"
    },
    "id": "tiTYkwxF3U4d",
    "is_executing": true,
    "outputId": "b1da4a51-08f0-4d9e-b1d0-97667bae4136"
   },
   "outputs": [],
   "source": [
    "def show_video():\n",
    "    mp4list = glob.glob('./video/*.mp4')\n",
    "    if len(mp4list) > 0:\n",
    "        mp4 = mp4list[0]\n",
    "        video = io.open(mp4, 'r+b').read()\n",
    "        encoded = base64.b64encode(video)\n",
    "        ipythondisplay.display(HTML(data='''<video alt=\"test\" autoplay\n",
    "                                    loop controls style=\"height: 400px;\">\n",
    "                                    <source src=\"data:video/mp4;base64,{0}\" type=\"video/mp4\" />\n",
    "                                    /video>'''.format(encoded.decode('ascii'))))\n",
    "    else:\n",
    "      print(\"Could not find video\")"
   ]
  },
  {
   "cell_type": "markdown",
   "metadata": {
    "id": "gFlcwFs-MR3P"
   },
   "source": [
    "### Displaying CartPole-v1 environment information and demonstration of how the environment works"
   ]
  },
  {
   "cell_type": "code",
   "execution_count": 4,
   "metadata": {
    "colab": {
     "base_uri": "https://localhost:8080/"
    },
    "id": "UJkdVvpLyieW",
    "is_executing": true,
    "outputId": "dc4d2236-120d-47ae-abe7-118a38f98038"
   },
   "outputs": [
    {
     "name": "stdout",
     "output_type": "stream",
     "text": [
      "Action Space: Discrete(2)\n",
      "Observation Space: Box([-4.8000002e+00 -3.4028235e+38 -4.1887903e-01 -3.4028235e+38], [4.8000002e+00 3.4028235e+38 4.1887903e-01 3.4028235e+38], (4,), float32)\n",
      "Env type: <class 'gym.wrappers.time_limit.TimeLimit'>\n",
      "Initial observations: (array([ 0.04164504,  0.00469123,  0.01057087, -0.00730225], dtype=float32), {})\n"
     ]
    }
   ],
   "source": [
    "env = gym.make(\"CartPole-v1\")\n",
    "print(f\"Action Space: {env.action_space}\")\n",
    "print(f\"Observation Space: {env.observation_space}\")\n",
    "print(f\"Env type: {type(env)}\")\n",
    "reset_results = env.reset()\n",
    "print(\"Initial observations:\", reset_results)"
   ]
  },
  {
   "cell_type": "code",
   "execution_count": 5,
   "metadata": {
    "colab": {
     "base_uri": "https://localhost:8080/"
    },
    "id": "ZmZ3bPlOypfs",
    "is_executing": true,
    "outputId": "5e971407-79a5-4e07-ae67-1ac442b03f86"
   },
   "outputs": [
    {
     "name": "stdout",
     "output_type": "stream",
     "text": [
      "New observations after choosing action 0: [ 0.04173887 -0.19058071  0.01042483  0.2886971 ]\n",
      "Reward for this step: 1.0\n",
      "Is this round done? False\n"
     ]
    },
    {
     "name": "stderr",
     "output_type": "stream",
     "text": [
      "/Library/Frameworks/Python.framework/Versions/3.10/lib/python3.10/site-packages/gym/utils/passive_env_checker.py:233: DeprecationWarning: `np.bool8` is a deprecated alias for `np.bool_`.  (Deprecated NumPy 1.24)\n",
      "  if not isinstance(terminated, (bool, np.bool8)):\n"
     ]
    }
   ],
   "source": [
    "step_results = env.step(0)\n",
    "\n",
    "observation = step_results[0]\n",
    "reward = step_results[1]\n",
    "done = step_results[2] or step_results[3]\n",
    "\n",
    "print(\"New observations after choosing action 0:\", observation)\n",
    "print(\"Reward for this step:\", reward)\n",
    "print(\"Is this round done?\", done)"
   ]
  },
  {
   "cell_type": "code",
   "execution_count": 15,
   "metadata": {
    "colab": {
     "base_uri": "https://localhost:8080/"
    },
    "id": "DgbjIdC7yrCk",
    "is_executing": true,
    "outputId": "b969a363-47c3-4fba-f8ec-700d7d9c83f7"
   },
   "outputs": [
    {
     "name": "stdout",
     "output_type": "stream",
     "text": [
      "Cumulative reward for this round: 9.0\n"
     ]
    }
   ],
   "source": [
    "observation = env.reset()\n",
    "cumulative_reward = 0\n",
    "done = False\n",
    "\n",
    "while not done:\n",
    "    step_results = env.step(0)\n",
    "\n",
    "    observation = step_results[0]\n",
    "    reward = step_results[1]\n",
    "    done = step_results[2] or step_results[3]\n",
    "    \n",
    "    cumulative_reward += reward\n",
    "    \n",
    "print(\"Cumulative reward for this round:\", cumulative_reward)"
   ]
  },
  {
   "cell_type": "markdown",
   "metadata": {
    "id": "75RhxZFnNRT2"
   },
   "source": [
    "### Our approach\n",
    "\n",
    "We have decided to go with an epsilon-greedy Q-learning agent to tackle the CartPole problem.\n",
    "\n",
    "Since we need to maintain a Q-table for the learning, we first need to discretize the states of the environment since the state elements are all real numbers, giving rise to too many unique states.\n",
    "\n",
    "We also have to determine the learning rate α, discount rate γ, exploration rate ε which will have a decay factor to allow agent to focus on exploiting the best actions towards its final episodes.\n",
    "\n",
    "The Q-value update formula is as follows:\n",
    "\n",
    "$$\n",
    "Q(s,a)=Q(s,a)+α⋅[r+γ⋅max_{a'}Q(s',a')-Q(s,a)]\n",
    "$$\n",
    "\n",
    "where\n",
    "- Q(s,a) is the current Q-value,\n",
    "- max Q(s',a') is the maximum Q-value for the next state, and\n",
    "- r is the reward."
   ]
  },
  {
   "cell_type": "markdown",
   "metadata": {
    "id": "Cnm9I-OpQwcJ"
   },
   "source": [
    "## Task 1: Developing RL agent"
   ]
  },
  {
   "cell_type": "markdown",
   "metadata": {
    "id": "rXACZYujMgIu"
   },
   "source": [
    "### Definition and implementation of reinforcement learning (RL) agent using Q-learning\n",
    "\n",
    "Documentation for each method is included."
   ]
  },
  {
   "cell_type": "code",
   "execution_count": 117,
   "metadata": {
    "id": "LbKGS6uvyyWU",
    "is_executing": true
   },
   "outputs": [],
   "source": [
    "class QLearningAgent:\n",
    "    \"\"\"\n",
    "    A class to represent a Q-Learning agent.\n",
    "\n",
    "    Attributes:\n",
    "    env -  CartPole environment\n",
    "    alpha - Learning rate\n",
    "    gamma - Discount rate\n",
    "    epsilon - Parameter for epsilon-greedy (determines if agent exploits mroe or explores more)\n",
    "    no_of_episodes - Total number of simulation episodes\n",
    "    no_of_bins - Number of bins for discretization, list with 4 entries for cart position, cart velocity, pole angle, pole angular velocity\n",
    "    lower_bounds - Lower limits for discretization, list with 4 entries for cart position, cart velocity, pole angle, pole angular velocity\n",
    "    upper_bounds - Upper limits for discretization, list with 4 entries for cart position, cart velocity, pole angle, pole angular velocity\n",
    "    sum_of_rewards_per_ep - List of sum of rewards in every learning episode\n",
    "    Qmatrix - Action-value function matrix\n",
    "    \"\"\"\n",
    "\n",
    "    def __init__(self, env, alpha, gamma, epsilon, no_of_episodes, no_of_bins, lower_bounds, upper_bounds):\n",
    "        \"\"\"\n",
    "        Constructs all the necessary attributes for the Q-_earning_Agent object.\n",
    "\n",
    "        Parameters:\n",
    "        env (CartPole environment) - CartPole environment\n",
    "        alpha (float) - Learning rate\n",
    "        gamma (float) - Discount rate\n",
    "        epsilon (float) - Parameter for epsilon-greedy (determines if agent exploits mroe or explores more)\n",
    "        no_of_episodes (int) - Total number of simulation episodes\n",
    "        no_of_bins (list) - Number of bins for discretization, list with 4 entries for cart position, cart velocity, pole angle, pole angular velocity\n",
    "        lower_bounds (list) - Lower limits for discretization, list with 4 entries for cart position, cart velocity, pole angle, pole angular velocity\n",
    "        upper_bounds (list) - Upper limits for discretization, list with 4 entries for cart position, cart velocity, pole angle, pole angular velocity\n",
    "\n",
    "        Returns:\n",
    "        None\n",
    "        \"\"\"\n",
    "        self.env = env\n",
    "        self.alpha = alpha\n",
    "        self.gamma = gamma\n",
    "        self.epsilon = epsilon\n",
    "        self.actionNumber = env.action_space.n\n",
    "        self.no_of_episodes = no_of_episodes\n",
    "        self.no_of_bins = no_of_bins\n",
    "        self.lower_bounds = lower_bounds\n",
    "        self.upper_bounds = upper_bounds\n",
    "\n",
    "        # List to store all rewards per episode\n",
    "        self.episode_rewards=[]\n",
    "\n",
    "        # Action value function matrix\n",
    "        # Initialized to random values to aid in exploration by starting with some random knowledge\n",
    "        self.Qmatrix=np.random.uniform(low=0, high=1, size=(no_of_bins[0],no_of_bins[1],no_of_bins[2],no_of_bins[3],self.actionNumber))\n",
    "\n",
    "\n",
    "    def return_state_index(self,state):\n",
    "        \"\"\"\n",
    "        Returns the index of the state in the Qmatrix.\n",
    "\n",
    "        For the given 4-dimensional state, and discretization grid defined by\n",
    "        no_of_bins, lower_bounds, and upper_bounds, this function will return\n",
    "        the 4D index tuple that is used to index entries of Qmatrix.\n",
    "\n",
    "        Parameters:\n",
    "        state (list/array) - 4 entries: cart position, cart velocity, pole angle, and pole angular velocity\n",
    "\n",
    "        Returns:\n",
    "        4D tuple - Indices of the Qmatrix that correspond to the input state\n",
    "        \"\"\"\n",
    "\n",
    "        position = state[0]\n",
    "        velocity = state[1]\n",
    "        angle = state[2]\n",
    "        angularVelocity = state[3]\n",
    "\n",
    "        cartPositionBin = np.linspace(self.lower_bounds[0],self.upper_bounds[0],self.no_of_bins[0])\n",
    "        cartVelocityBin = np.linspace(self.lower_bounds[1],self.upper_bounds[1],self.no_of_bins[1])\n",
    "        poleAngleBin = np.linspace(self.lower_bounds[2],self.upper_bounds[2],self.no_of_bins[2])\n",
    "        poleAngleVelocityBin = np.linspace(self.lower_bounds[3],self.upper_bounds[3],self.no_of_bins[3])\n",
    "\n",
    "        # All index will have a minimum value of 0 and -1 is to ensure the index from np.digitize starts from 0\n",
    "        indexPosition=np.maximum(np.digitize(position,cartPositionBin)-1,0)\n",
    "        indexVelocity=np.maximum(np.digitize(velocity,cartVelocityBin)-1,0)\n",
    "        indexAngle=np.maximum(np.digitize(angle,poleAngleBin)-1,0)\n",
    "        indexAngularVelocity=np.maximum(np.digitize(angularVelocity,poleAngleVelocityBin)-1,0)\n",
    "\n",
    "        return tuple([indexPosition,indexVelocity,indexAngle,indexAngularVelocity])\n",
    "\n",
    "\n",
    "    def select_action(self,state,index=-1):\n",
    "        \"\"\"\n",
    "        Selects an action based on the current state.\n",
    "\n",
    "        Parameters:\n",
    "        state (list/array) - State for which to compute the action\n",
    "        index (int) - Index of the current episode, defaulted to -1 for single episode runs\n",
    "\n",
    "        Returns:\n",
    "        int - Action selected based on the current state\n",
    "        \"\"\"\n",
    "\n",
    "        if index == -1:\n",
    "            # For single episodes, do nothing\n",
    "            pass\n",
    "        elif 0 <= index < 500:\n",
    "            # Select completely random actions for exploration in the first 500 episodes\n",
    "            return np.random.choice(self.actionNumber)\n",
    "        elif index > 3000:\n",
    "            # Decrease epsilon parameter for more exploitation after 3000 episodes\n",
    "            self.epsilon = 0.99 * self.epsilon\n",
    "\n",
    "        random_number = np.random.random()\n",
    "\n",
    "        if random_number <= self.epsilon:\n",
    "            # Exploring with random action (probability = epsilon)\n",
    "            return np.random.choice(self.actionNumber)\n",
    "        else:\n",
    "            # Exploiting with best action (probability = 1 - epsilon)\n",
    "\n",
    "            # self.Qmatrix[self.return_state_index(state)] returns a 1D np array containing the Q-values for each action in that state.\n",
    "            # np.max returns the max Q-value of both actions.\n",
    "            # np.where returns a tuple containing the array of indexes that satisfies the condition. We use [0] to extract that array.\n",
    "            # Since there could be more than one index for max Q-value in this array, we use random.choice to select a random index.\n",
    "            return np.random.choice(np.where(self.Qmatrix[self.return_state_index(state)] == np.max(self.Qmatrix[self.return_state_index(state)]))[0])\n",
    "\n",
    "\n",
    "    def simulate_training_episodes(self, print_results=True):\n",
    "        \"\"\"\n",
    "        Simulates learning/training episodes.\n",
    "\n",
    "        Parameters:\n",
    "        print_results (bool) - Boolean to print results of every 250 episodes for tracking progress\n",
    "\n",
    "        Returns:\n",
    "        None\n",
    "        \"\"\"\n",
    "\n",
    "        for ep_index in range(1, self.no_of_episodes+1):\n",
    "            # List to store rewards per episode\n",
    "            rewardsEpisode=[]\n",
    "\n",
    "            # Reset environment at start of episode\n",
    "            state = list(self.env.reset()[0])\n",
    "            # state=self.env.reset()\n",
    "            # state=list(state)\n",
    "\n",
    "            # Track every 250 training episodes\n",
    "            if ep_index % 250 == 0 and print_results:\n",
    "                print(f\"Simulating episode {ep_index}...\")\n",
    "\n",
    "            # Simulate episode to completion\n",
    "            done = False\n",
    "            while not done:\n",
    "                # Discretized index of state\n",
    "                stateIndex=self.return_state_index(state)\n",
    "\n",
    "                # Select action based on current state\n",
    "                action = self.select_action(state,ep_index)\n",
    "\n",
    "                # Step into next state with chosen action\n",
    "                # next_state - Next state\n",
    "                # reward - Reward from taken step\n",
    "                # done - Boolean; has terminal state been reached?\n",
    "                step_results = self.env.step(action)\n",
    "                \n",
    "                next_state = step_results[0]\n",
    "                reward = step_results[1]\n",
    "                done = step_results[2] or step_results[3]\n",
    "\n",
    "                rewardsEpisode.append(reward)\n",
    "\n",
    "                next_state=list(next_state)\n",
    "\n",
    "                next_stateIndex=self.return_state_index(next_state)\n",
    "\n",
    "                # return the max value from the 1d array for the next state\n",
    "                Qmax=np.max(self.Qmatrix[next_stateIndex])\n",
    "\n",
    "                if not done:\n",
    "                    # state+(action,) - we use this notation to append the tuples\n",
    "                    # for example, for state=(0,0,0,1) and action=(1,)\n",
    "                    # we have state+(action,)=(0,0,0,1,1) which will serve to index the np array Qmatrix\n",
    "\n",
    "                    # error corresponds to the second part of the Q-learning update formula, without multiplying by alpha\n",
    "                    error=reward+self.gamma*Qmax-self.Qmatrix[stateIndex+(action,)]\n",
    "                    # alpha*error together with current Q-value forms the update formula\n",
    "                    self.Qmatrix[stateIndex+(action,)]=self.Qmatrix[stateIndex+(action,)]+self.alpha*error\n",
    "                else:\n",
    "                    # in the terminal state, since there will be no further action taken, there is no reward so the Q-value of terminal state is 0\n",
    "                    error=reward-self.Qmatrix[stateIndex+(action,)]\n",
    "                    self.Qmatrix[stateIndex+(action,)]=self.Qmatrix[stateIndex+(action,)]+self.alpha*error\n",
    "\n",
    "                # set the current state to the next state\n",
    "                state = next_state\n",
    "\n",
    "            # Track every 250 training episodes\n",
    "            if ep_index % 250 == 0 and print_results:\n",
    "                print(f\"Episode reward: {np.sum(rewardsEpisode)}\")\n",
    "\n",
    "            self.episode_rewards.append(np.sum(rewardsEpisode))\n",
    "\n",
    "\n",
    "    def run_episode(self):\n",
    "        \"\"\"\n",
    "        Runs an episode using trained agent without updates to Qmatrix (used in Task 2).\n",
    "\n",
    "        Returns:\n",
    "        int - Total rewards obtained in the episode\n",
    "        \"\"\"\n",
    "\n",
    "        state = list(self.env.reset()[0])\n",
    "        episode_reward = 0\n",
    "        done = False\n",
    "\n",
    "        while not done:\n",
    "            action = self.select_action(state)\n",
    "\n",
    "            step_results = self.env.step(action)\n",
    "            next_state = step_results[0]\n",
    "            step_reward = step_results[1]\n",
    "            done = step_results[2] or step_results[3]\n",
    "            \n",
    "            episode_reward += step_reward\n",
    "\n",
    "            next_state = list(next_state)\n",
    "\n",
    "            state = next_state\n",
    "\n",
    "        return episode_reward\n",
    "    \n",
    "\n",
    "    def run_episode_with_rendering(self):\n",
    "        \"\"\"\n",
    "        Runs an episode using trained agent without updates to Qmatrix and with rendering (used in Task 3).\n",
    "\n",
    "        Returns:\n",
    "        int - Total rewards obtained in the episode\n",
    "        \"\"\"\n",
    "\n",
    "        episode_reward = 0\n",
    "        done = False\n",
    "\n",
    "        vid_env = RecordVideo(gym.make(\"CartPole-v1\", render_mode=\"rgb_array\"), \"./video\")\n",
    "        state = list(vid_env.reset()[0])\n",
    "        \n",
    "        self.set_env(vid_env)\n",
    "\n",
    "        while not done:\n",
    "            action = self.select_action(state)\n",
    "\n",
    "            step_results = vid_env.step(action)\n",
    "            next_state = step_results[0]\n",
    "            step_reward = step_results[1]\n",
    "            done = step_results[2] or step_results[3]\n",
    "            \n",
    "            episode_reward += step_reward\n",
    "\n",
    "            next_state = list(next_state)\n",
    "\n",
    "            state = next_state\n",
    "\n",
    "        vid_env.close_video_recorder()\n",
    "        vid_env.close()\n",
    "        \n",
    "        return episode_reward\n",
    "\n",
    "\n",
    "    def set_env(self,env):\n",
    "        \"\"\"\n",
    "        Changes the agent environment (used in Task 3).\n",
    "\n",
    "        Parameters:\n",
    "        env (CartPole environment) - New CartPole environment\n",
    "\n",
    "        Returns:\n",
    "        None\n",
    "        \"\"\"\n",
    "\n",
    "        self.env=env\n",
    "\n",
    "\n",
    "    def evaluate(self):\n",
    "        \"\"\"\n",
    "        Evaluates the agent's performance by calculating the average rewards obtained in all episodes.\n",
    "\n",
    "        Returns:\n",
    "        float - Average rewards obtained in all episodes\n",
    "        \"\"\"\n",
    "\n",
    "        return sum(self.episode_rewards) / len(self.episode_rewards)"
   ]
  },
  {
   "cell_type": "markdown",
   "metadata": {
    "id": "9H8O3CwUM0T3"
   },
   "source": [
    "### Creating environment"
   ]
  },
  {
   "cell_type": "code",
   "execution_count": 8,
   "metadata": {
    "id": "YSeP3URHsr6H",
    "is_executing": true
   },
   "outputs": [],
   "source": [
    "# Creating environment\n",
    "env = gym.make('CartPole-v1')\n",
    "state = env.reset()"
   ]
  },
  {
   "cell_type": "markdown",
   "metadata": {
    "id": "ZujmWhsbTQES"
   },
   "source": [
    "### Defining lower, upper bound and number of bins to discretize the states.\n",
    "\n",
    "Here we obtain the upper and lower bounds for state elements that doo not go to infinity.\n",
    "\n",
    "As for state elements that go to infinity, we define the bounds ourselves."
   ]
  },
  {
   "cell_type": "code",
   "execution_count": 29,
   "metadata": {
    "id": "2GTJiEhCsxOg",
    "is_executing": true
   },
   "outputs": [],
   "source": [
    "# Defining parameters for state discretization\n",
    "upper_bounds = env.observation_space.high\n",
    "lower_bounds = env.observation_space.low\n",
    "cartVelocityMin = -3\n",
    "cartVelocityMax = 3\n",
    "poleAngleVelocityMin = -10\n",
    "poleAngleVelocityMax = 10\n",
    "upper_bounds[1]=cartVelocityMax\n",
    "upper_bounds[3]=poleAngleVelocityMax\n",
    "lower_bounds[1]=cartVelocityMin\n",
    "lower_bounds[3]=poleAngleVelocityMin\n",
    "\n",
    "position_bins = 30\n",
    "velocity_bins = 30\n",
    "angle_bins = 30\n",
    "angular_velocity_bins = 30\n",
    "no_of_bins = [position_bins, velocity_bins, angle_bins, angular_velocity_bins]"
   ]
  },
  {
   "cell_type": "markdown",
   "metadata": {
    "id": "nE2g6rjkT4ym"
   },
   "source": [
    "### Tuning agent's hyperparameters\n",
    "\n",
    "We tune the agent's hyperparameters through trial and error to determine the best set to use.\n",
    "\n",
    "The agent will be assessed by its average reward over 1000 rounds."
   ]
  },
  {
   "cell_type": "code",
   "execution_count": 30,
   "metadata": {
    "colab": {
     "base_uri": "https://localhost:8080/"
    },
    "id": "CppGjZ9iAwxP",
    "is_executing": true,
    "outputId": "1a95d8ce-bbdf-4346-a8e9-fd0d6a287461"
   },
   "outputs": [
    {
     "name": "stdout",
     "output_type": "stream",
     "text": [
      "Hyperparameters (alpha, gamma, epsilon): (0.1, 0.99, 0.1)\n",
      "Avg. Reward per Episode: 95.98133333333334\n",
      "Hyperparameters (alpha, gamma, epsilon): (0.1, 0.99, 0.2)\n",
      "Avg. Reward per Episode: 94.48866666666666\n",
      "Hyperparameters (alpha, gamma, epsilon): (0.1, 0.999, 0.1)\n",
      "Avg. Reward per Episode: 100.89133333333334\n",
      "Hyperparameters (alpha, gamma, epsilon): (0.1, 0.999, 0.2)\n",
      "Avg. Reward per Episode: 95.92566666666667\n",
      "Hyperparameters (alpha, gamma, epsilon): (0.01, 0.99, 0.1)\n",
      "Avg. Reward per Episode: 45.79366666666667\n",
      "Hyperparameters (alpha, gamma, epsilon): (0.01, 0.99, 0.2)\n",
      "Avg. Reward per Episode: 54.705\n",
      "Hyperparameters (alpha, gamma, epsilon): (0.01, 0.999, 0.1)\n",
      "Avg. Reward per Episode: 38.678666666666665\n",
      "Hyperparameters (alpha, gamma, epsilon): (0.01, 0.999, 0.2)\n",
      "Avg. Reward per Episode: 52.11666666666667\n",
      "\n",
      "Best Hyperparameters: (0.1, 0.999, 0.1)\n",
      "Avg. Reward per Episode: 100.89133333333334\n"
     ]
    }
   ],
   "source": [
    "# Search space\n",
    "alphas = [0.1, 0.01]\n",
    "gammas = [0.99, 0.999]\n",
    "epsilons = [0.1, 0.2]\n",
    "\n",
    "param_grid = itertools.product(alphas, gammas, epsilons)\n",
    "\n",
    "best_performance = float('-inf')\n",
    "best_hyperparameters = None\n",
    "no_of_test_episodes = 3000\n",
    "\n",
    "for params in param_grid:\n",
    "    test_env = gym.make('CartPole-v1')\n",
    "    state = test_env.reset()\n",
    "    alpha, gamma, epsilon = params\n",
    "\n",
    "    # Initialize agent with current hyperparameters\n",
    "    agent = QLearningAgent(test_env, alpha, gamma, epsilon, no_of_test_episodes, no_of_bins, lower_bounds, upper_bounds)\n",
    "\n",
    "    # Train the agent\n",
    "    agent.simulate_training_episodes(print_results=False)\n",
    "\n",
    "    # Evaluate performance\n",
    "    performance = agent.evaluate()\n",
    "\n",
    "    # Output performance of current hyperparameters\n",
    "    print(\"Hyperparameters (alpha, gamma, epsilon):\", params)\n",
    "    print(\"Avg. Reward per Episode:\", performance)\n",
    "\n",
    "    # Update best_hyperparameters if current performance is better\n",
    "    if performance > best_performance:\n",
    "        best_performance = performance\n",
    "        best_hyperparameters = params\n",
    "\n",
    "# Best set of hyperparameters and its performance\n",
    "print(\"\\nBest Hyperparameters:\", best_hyperparameters)\n",
    "print(\"Avg. Reward per Episode:\", best_performance)"
   ]
  },
  {
   "cell_type": "markdown",
   "metadata": {},
   "source": [
    "**Analysis of Best Hyperparameters**\n",
    "\n",
    "- Learning rate, ɑ = 0.1. A high learning rate and allows our agent to quickly update its Q-values based on new information.\n",
    "- Discount factor, γ = 0.999. A high discount factor means that our agent heavily values future rewards over immediate rewards. This allows our agent to perform better and hit the maximum reward ceiling of 500 more consistently.\n",
    "- Epsilon, ε = 0.1. A low epsilon allows our agent to prioritize exploitation over exploration, meaning it is more likely to stick to its tried and tested strategy of choice."
   ]
  },
  {
   "cell_type": "markdown",
   "metadata": {
    "id": "Zs4bJv8xUFtz"
   },
   "source": [
    "### Creating and training agent\n",
    "\n",
    "We create the agent using the class we defined above and train it over 10000 episodes.\n",
    "\n",
    "Some intermediate results are displayed for observation."
   ]
  },
  {
   "cell_type": "code",
   "execution_count": 86,
   "metadata": {
    "colab": {
     "base_uri": "https://localhost:8080/",
     "height": 1000
    },
    "id": "K9xwpErCKkvD",
    "is_executing": true,
    "outputId": "d3b5ece6-a09b-4a0e-fe26-2262f3559164"
   },
   "outputs": [
    {
     "name": "stdout",
     "output_type": "stream",
     "text": [
      "Simulating episode 250...\n",
      "Episode reward: 11.0\n",
      "Simulating episode 500...\n",
      "Episode reward: 88.0\n",
      "Simulating episode 750...\n",
      "Episode reward: 41.0\n",
      "Simulating episode 1000...\n",
      "Episode reward: 58.0\n",
      "Simulating episode 1250...\n",
      "Episode reward: 127.0\n",
      "Simulating episode 1500...\n",
      "Episode reward: 209.0\n",
      "Simulating episode 1750...\n",
      "Episode reward: 139.0\n",
      "Simulating episode 2000...\n",
      "Episode reward: 82.0\n",
      "Simulating episode 2250...\n",
      "Episode reward: 122.0\n",
      "Simulating episode 2500...\n",
      "Episode reward: 126.0\n",
      "Simulating episode 2750...\n",
      "Episode reward: 77.0\n",
      "Simulating episode 3000...\n",
      "Episode reward: 65.0\n",
      "Simulating episode 3250...\n",
      "Episode reward: 178.0\n",
      "Simulating episode 3500...\n",
      "Episode reward: 160.0\n",
      "Simulating episode 3750...\n",
      "Episode reward: 322.0\n",
      "Simulating episode 4000...\n",
      "Episode reward: 167.0\n",
      "Simulating episode 4250...\n",
      "Episode reward: 360.0\n",
      "Simulating episode 4500...\n",
      "Episode reward: 150.0\n",
      "Simulating episode 4750...\n",
      "Episode reward: 500.0\n",
      "Simulating episode 5000...\n",
      "Episode reward: 500.0\n",
      "Simulating episode 5250...\n",
      "Episode reward: 244.0\n",
      "Simulating episode 5500...\n",
      "Episode reward: 312.0\n",
      "Simulating episode 5750...\n",
      "Episode reward: 172.0\n",
      "Simulating episode 6000...\n",
      "Episode reward: 396.0\n",
      "Simulating episode 6250...\n",
      "Episode reward: 214.0\n",
      "Simulating episode 6500...\n",
      "Episode reward: 76.0\n",
      "Simulating episode 6750...\n",
      "Episode reward: 174.0\n",
      "Simulating episode 7000...\n",
      "Episode reward: 338.0\n",
      "Simulating episode 7250...\n",
      "Episode reward: 238.0\n",
      "Simulating episode 7500...\n",
      "Episode reward: 106.0\n",
      "Simulating episode 7750...\n",
      "Episode reward: 101.0\n",
      "Simulating episode 8000...\n",
      "Episode reward: 500.0\n",
      "Simulating episode 8250...\n",
      "Episode reward: 272.0\n",
      "Simulating episode 8500...\n",
      "Episode reward: 500.0\n",
      "Simulating episode 8750...\n",
      "Episode reward: 83.0\n",
      "Simulating episode 9000...\n",
      "Episode reward: 350.0\n",
      "Simulating episode 9250...\n",
      "Episode reward: 260.0\n",
      "Simulating episode 9500...\n",
      "Episode reward: 138.0\n",
      "Simulating episode 9750...\n",
      "Episode reward: 500.0\n",
      "Simulating episode 10000...\n",
      "Episode reward: 182.0\n"
     ]
    }
   ],
   "source": [
    "# Train agent for 10000 episodes\n",
    "alpha, gamma, epsilon = best_hyperparameters\n",
    "no_of_episodes = 10000\n",
    "trained_agent = QLearningAgent(env, alpha, gamma, epsilon, no_of_episodes, no_of_bins, lower_bounds, upper_bounds)\n",
    "trained_agent.simulate_training_episodes()"
   ]
  },
  {
   "cell_type": "markdown",
   "metadata": {
    "id": "rCO-WUNSBq_8"
   },
   "source": [
    "### Visualize agent performance across all training episodes\n",
    "\n",
    "We plot a graph of reward against episode to assess how the agent's performance changes throughout its training."
   ]
  },
  {
   "cell_type": "code",
   "execution_count": 114,
   "metadata": {
    "colab": {
     "base_uri": "https://localhost:8080/",
     "height": 465
    },
    "id": "kX9OcJQnKrCh",
    "is_executing": true,
    "outputId": "c581eb23-2b1b-49c2-ae23-473eba732039"
   },
   "outputs": [
    {
     "data": {
      "image/png": "[encoded data removed]",
      "text/plain": [
       "<Figure size 1200x500 with 1 Axes>"
      ]
     },
     "metadata": {},
     "output_type": "display_data"
    }
   ],
   "source": [
    "plt.figure(figsize=(12, 5))\n",
    "# plot the figure and adjust the plot parameters\n",
    "plt.plot(trained_agent.episode_rewards, color='blue', linewidth=1)\n",
    "plt.title('Rewards per Episode')\n",
    "plt.xlabel('Episode')\n",
    "plt.xticks(np.arange(0, 10001, 500))\n",
    "plt.ylabel('Reward')\n",
    "plt.show()"
   ]
  },
  {
   "cell_type": "markdown",
   "metadata": {},
   "source": [
    "**Observations**\n",
    "\n",
    "- Overall, agent's performance increased throughout its training, with noticeable jumps around episodes 500 and 3000. We believe these jumps are due to encouraging our agent to explore and exploit respectively.\n",
    "\n",
    "- From our agent's select_action() method,\n",
    "<br>\n",
    "    ```\n",
    "    if index == -1:\n",
    "        # For single episodes, do nothing\n",
    "        pass\n",
    "    elif 0 <= index < 500:\n",
    "        # Select completely random actions for exploration in the first 500 episodes\n",
    "        return np.random.choice(self.actionNumber)\n",
    "    elif index > 3000:\n",
    "        # Decrease epsilon parameter for more exploitation after 3000 episodes\n",
    "        self.epsilon = 0.99 * self.epsilon\n",
    "    ```\n",
    "<br>\n",
    "\n",
    "- Given that episodes 0 to 499 are designed to encourage agent exploration through completely random actions, it stands to reason that the increase in agent performance past episode 500 is due to the agent being able to exploit the best strategies that it picked up from the earlier episodes.\n",
    "\n",
    "- Given that episodes past 3000 are designed to encourage agent exploitation through epsilon decay, it stands to reason that there is a substantial increase in agent performance past episode 3000 as the agent can now make full use of its \"experience\" in the earlier episodes to exploit the best strategies that it had discovered.\n",
    "\n",
    "- *Exploration refers to having the agent take random actions to explore its environment, which is what we aimed to achieve in the first 500 episodes.*\n",
    "\n",
    "- *Exploitation refers to having the agent leverage its known strategies in order to maximize rewards. We believed that, past episode 3000, our agent would have understood its environment well enough to have formulated a strategy that could help it maximise its rewards.*"
   ]
  },
  {
   "cell_type": "markdown",
   "metadata": {
    "id": "Gn5YOLHtW7ub"
   },
   "source": [
    "For Task 1, the state and chosen action are shown below:"
   ]
  },
  {
   "cell_type": "code",
   "execution_count": 88,
   "metadata": {
    "colab": {
     "base_uri": "https://localhost:8080/"
    },
    "id": "I5ix5SDuVAWm",
    "is_executing": true,
    "outputId": "fe3b948f-cb11-47db-d579-d8473cc07be1"
   },
   "outputs": [
    {
     "name": "stdout",
     "output_type": "stream",
     "text": [
      "State: [-0.025303645, 0.044244558, -0.041641288, 0.04061137]\n",
      "Chosen action: 0\n"
     ]
    }
   ],
   "source": [
    "state = list(env.reset()[0])\n",
    "action = trained_agent.select_action(state)\n",
    "print(\"State:\", state)\n",
    "print(\"Chosen action:\", action)"
   ]
  },
  {
   "cell_type": "markdown",
   "metadata": {
    "id": "5ZkiFypY87KY"
   },
   "source": [
    "## Task 2: Demonstrate the effectiveness of the RL agent"
   ]
  },
  {
   "cell_type": "markdown",
   "metadata": {
    "id": "7FMkdq-6QScb"
   },
   "source": [
    "### Simulate 100 episodes with trained RL agent\n",
    "\n",
    "Here we use the trained RL agent to play the game across 100 episodes, recording the cumulative reward obtained each round."
   ]
  },
  {
   "cell_type": "code",
   "execution_count": 94,
   "metadata": {
    "colab": {
     "base_uri": "https://localhost:8080/"
    },
    "id": "5fE5HC1pzDF1",
    "is_executing": true,
    "outputId": "8bace6b1-e9f6-4c06-fa74-524b1205d8f4"
   },
   "outputs": [
    {
     "name": "stdout",
     "output_type": "stream",
     "text": [
      "Episode: 1\n",
      "Reward: 500.0\n",
      "\n",
      "Episode: 2\n",
      "Reward: 378.0\n",
      "\n",
      "Episode: 3\n",
      "Reward: 500.0\n",
      "\n",
      "Episode: 4\n",
      "Reward: 500.0\n",
      "\n",
      "Episode: 5\n",
      "Reward: 452.0\n",
      "\n",
      "Episode: 6\n",
      "Reward: 396.0\n",
      "\n",
      "Episode: 7\n",
      "Reward: 500.0\n",
      "\n",
      "Episode: 8\n",
      "Reward: 288.0\n",
      "\n",
      "Episode: 9\n",
      "Reward: 488.0\n",
      "\n",
      "Episode: 10\n",
      "Reward: 262.0\n",
      "\n",
      "Episode: 11\n",
      "Reward: 340.0\n",
      "\n",
      "Episode: 12\n",
      "Reward: 174.0\n",
      "\n",
      "Episode: 13\n",
      "Reward: 304.0\n",
      "\n",
      "Episode: 14\n",
      "Reward: 500.0\n",
      "\n",
      "Episode: 15\n",
      "Reward: 148.0\n",
      "\n",
      "Episode: 16\n",
      "Reward: 402.0\n",
      "\n",
      "Episode: 17\n",
      "Reward: 158.0\n",
      "\n",
      "Episode: 18\n",
      "Reward: 500.0\n",
      "\n",
      "Episode: 19\n",
      "Reward: 500.0\n",
      "\n",
      "Episode: 20\n",
      "Reward: 164.0\n",
      "\n",
      "Episode: 21\n",
      "Reward: 126.0\n",
      "\n",
      "Episode: 22\n",
      "Reward: 184.0\n",
      "\n",
      "Episode: 23\n",
      "Reward: 414.0\n",
      "\n",
      "Episode: 24\n",
      "Reward: 426.0\n",
      "\n",
      "Episode: 25\n",
      "Reward: 500.0\n",
      "\n",
      "Episode: 26\n",
      "Reward: 500.0\n",
      "\n",
      "Episode: 27\n",
      "Reward: 488.0\n",
      "\n",
      "Episode: 28\n",
      "Reward: 116.0\n",
      "\n",
      "Episode: 29\n",
      "Reward: 358.0\n",
      "\n",
      "Episode: 30\n",
      "Reward: 148.0\n",
      "\n",
      "Episode: 31\n",
      "Reward: 160.0\n",
      "\n",
      "Episode: 32\n",
      "Reward: 500.0\n",
      "\n",
      "Episode: 33\n",
      "Reward: 136.0\n",
      "\n",
      "Episode: 34\n",
      "Reward: 500.0\n",
      "\n",
      "Episode: 35\n",
      "Reward: 260.0\n",
      "\n",
      "Episode: 36\n",
      "Reward: 104.0\n",
      "\n",
      "Episode: 37\n",
      "Reward: 270.0\n",
      "\n",
      "Episode: 38\n",
      "Reward: 376.0\n",
      "\n",
      "Episode: 39\n",
      "Reward: 99.0\n",
      "\n",
      "Episode: 40\n",
      "Reward: 448.0\n",
      "\n",
      "Episode: 41\n",
      "Reward: 500.0\n",
      "\n",
      "Episode: 42\n",
      "Reward: 230.0\n",
      "\n",
      "Episode: 43\n",
      "Reward: 288.0\n",
      "\n",
      "Episode: 44\n",
      "Reward: 166.0\n",
      "\n",
      "Episode: 45\n",
      "Reward: 90.0\n",
      "\n",
      "Episode: 46\n",
      "Reward: 500.0\n",
      "\n",
      "Episode: 47\n",
      "Reward: 398.0\n",
      "\n",
      "Episode: 48\n",
      "Reward: 500.0\n",
      "\n",
      "Episode: 49\n",
      "Reward: 146.0\n",
      "\n",
      "Episode: 50\n",
      "Reward: 240.0\n",
      "\n",
      "Episode: 51\n",
      "Reward: 252.0\n",
      "\n",
      "Episode: 52\n",
      "Reward: 214.0\n",
      "\n",
      "Episode: 53\n",
      "Reward: 232.0\n",
      "\n",
      "Episode: 54\n",
      "Reward: 91.0\n",
      "\n",
      "Episode: 55\n",
      "Reward: 152.0\n",
      "\n",
      "Episode: 56\n",
      "Reward: 305.0\n",
      "\n",
      "Episode: 57\n",
      "Reward: 500.0\n",
      "\n",
      "Episode: 58\n",
      "Reward: 256.0\n",
      "\n",
      "Episode: 59\n",
      "Reward: 232.0\n",
      "\n",
      "Episode: 60\n",
      "Reward: 362.0\n",
      "\n",
      "Episode: 61\n",
      "Reward: 368.0\n",
      "\n",
      "Episode: 62\n",
      "Reward: 166.0\n",
      "\n",
      "Episode: 63\n",
      "Reward: 135.0\n",
      "\n",
      "Episode: 64\n",
      "Reward: 500.0\n",
      "\n",
      "Episode: 65\n",
      "Reward: 346.0\n",
      "\n",
      "Episode: 66\n",
      "Reward: 184.0\n",
      "\n",
      "Episode: 67\n",
      "Reward: 462.0\n",
      "\n",
      "Episode: 68\n",
      "Reward: 420.0\n",
      "\n",
      "Episode: 69\n",
      "Reward: 142.0\n",
      "\n",
      "Episode: 70\n",
      "Reward: 184.0\n",
      "\n",
      "Episode: 71\n",
      "Reward: 244.0\n",
      "\n",
      "Episode: 72\n",
      "Reward: 204.0\n",
      "\n",
      "Episode: 73\n",
      "Reward: 122.0\n",
      "\n",
      "Episode: 74\n",
      "Reward: 500.0\n",
      "\n",
      "Episode: 75\n",
      "Reward: 174.0\n",
      "\n",
      "Episode: 76\n",
      "Reward: 130.0\n",
      "\n",
      "Episode: 77\n",
      "Reward: 500.0\n",
      "\n",
      "Episode: 78\n",
      "Reward: 500.0\n",
      "\n",
      "Episode: 79\n",
      "Reward: 500.0\n",
      "\n",
      "Episode: 80\n",
      "Reward: 133.0\n",
      "\n",
      "Episode: 81\n",
      "Reward: 290.0\n",
      "\n",
      "Episode: 82\n",
      "Reward: 500.0\n",
      "\n",
      "Episode: 83\n",
      "Reward: 154.0\n",
      "\n",
      "Episode: 84\n",
      "Reward: 122.0\n",
      "\n",
      "Episode: 85\n",
      "Reward: 500.0\n",
      "\n",
      "Episode: 86\n",
      "Reward: 174.0\n",
      "\n",
      "Episode: 87\n",
      "Reward: 500.0\n",
      "\n",
      "Episode: 88\n",
      "Reward: 176.0\n",
      "\n",
      "Episode: 89\n",
      "Reward: 300.0\n",
      "\n",
      "Episode: 90\n",
      "Reward: 500.0\n",
      "\n",
      "Episode: 91\n",
      "Reward: 500.0\n",
      "\n",
      "Episode: 92\n",
      "Reward: 468.0\n",
      "\n",
      "Episode: 93\n",
      "Reward: 200.0\n",
      "\n",
      "Episode: 94\n",
      "Reward: 500.0\n",
      "\n",
      "Episode: 95\n",
      "Reward: 262.0\n",
      "\n",
      "Episode: 96\n",
      "Reward: 200.0\n",
      "\n",
      "Episode: 97\n",
      "Reward: 500.0\n",
      "\n",
      "Episode: 98\n",
      "Reward: 500.0\n",
      "\n",
      "Episode: 99\n",
      "Reward: 500.0\n",
      "\n",
      "Episode: 100\n",
      "Reward: 352.0\n",
      "\n"
     ]
    }
   ],
   "source": [
    "episode_results = []\n",
    "episodeNumber = 100\n",
    "\n",
    "for episode in range(episodeNumber):\n",
    "    print(f\"Episode: {episode+1}\")\n",
    "    reward = trained_agent.run_episode()\n",
    "    print(f\"Reward: {reward}\\n\")\n",
    "    episode_results.append(reward)"
   ]
  },
  {
   "cell_type": "markdown",
   "metadata": {
    "id": "jiBsNZD-XIMU"
   },
   "source": [
    "### Plot graph of Cumulative Reward against Episode\n",
    "\n",
    "We plot the graph to visualize the agent's rewards for each simulated episode."
   ]
  },
  {
   "cell_type": "code",
   "execution_count": 95,
   "metadata": {
    "colab": {
     "base_uri": "https://localhost:8080/",
     "height": 472
    },
    "id": "SGhD-ltq8wgT",
    "is_executing": true,
    "outputId": "af4fa310-65a9-4fd4-ad4e-6b0c50020725"
   },
   "outputs": [
    {
     "data": {
      "image/png": "[encoded data removed]",
      "text/plain": [
       "<Figure size 640x480 with 1 Axes>"
      ]
     },
     "metadata": {},
     "output_type": "display_data"
    }
   ],
   "source": [
    "episode_results_np = np.array(episode_results)\n",
    "plt.plot(episode_results_np)\n",
    "plt.title('Cumulative reward for each episode')\n",
    "plt.xlabel('Episode')\n",
    "plt.xticks(np.arange(0, 101, 10))\n",
    "plt.ylabel('Cumulative reward')\n",
    "plt.show()"
   ]
  },
  {
   "cell_type": "code",
   "execution_count": 93,
   "metadata": {
    "colab": {
     "base_uri": "https://localhost:8080/"
    },
    "id": "eP03-ssi8wv3",
    "is_executing": true,
    "outputId": "2dffce63-4654-47e1-fc59-95fd5a58082e"
   },
   "outputs": [
    {
     "name": "stdout",
     "output_type": "stream",
     "text": [
      "Average cumulative reward: 280.67\n",
      "Is my agent good enough? True\n"
     ]
    }
   ],
   "source": [
    "print(\"Average cumulative reward:\", episode_results_np.mean())\n",
    "print(\"Is my agent good enough?\", episode_results_np.mean() > 195)"
   ]
  },
  {
   "cell_type": "markdown",
   "metadata": {
    "id": "zJJOZrjbNG_i"
   },
   "source": [
    "## Task 3: Render one episode played by the agent"
   ]
  },
  {
   "cell_type": "code",
   "execution_count": 113,
   "metadata": {},
   "outputs": [
    {
     "name": "stdout",
     "output_type": "stream",
     "text": [
      "Moviepy - Building video /Users/nicholas/Desktop/Nicholas/NTU/Y2S2/SC3000/Labs/Assignment1/video/rl-video-episode-0.mp4.\n",
      "Moviepy - Writing video /Users/nicholas/Desktop/Nicholas/NTU/Y2S2/SC3000/Labs/Assignment1/video/rl-video-episode-0.mp4\n",
      "\n"
     ]
    },
    {
     "name": "stderr",
     "output_type": "stream",
     "text": [
      "                                                                "
     ]
    },
    {
     "name": "stdout",
     "output_type": "stream",
     "text": [
      "Moviepy - Done !\n",
      "Moviepy - video ready /Users/nicholas/Desktop/Nicholas/NTU/Y2S2/SC3000/Labs/Assignment1/video/rl-video-episode-0.mp4\n"
     ]
    },
    {
     "name": "stderr",
     "output_type": "stream",
     "text": [
      "\r"
     ]
    },
    {
     "data": {
      "text/html": [
       "<video alt=\"test\" autoplay\n",
       "                                    loop controls style=\"height: 400px;\">\n",
       "                                    <source src=\"data:video/mp4;base64,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\" type=\"video/mp4\" />\n",
       "                                    /video>"
      ],
      "text/plain": [
       "<IPython.core.display.HTML object>"
      ]
     },
     "metadata": {},
     "output_type": "display_data"
    },
    {
     "name": "stdout",
     "output_type": "stream",
     "text": [
      "Episode reward: 380.0\n"
     ]
    }
   ],
   "source": [
    "episode_reward = trained_agent.run_episode_with_rendering()\n",
    "show_video()\n",
    "print(\"Episode reward:\", episode_reward)"
   ]
  },
  {
   "cell_type": "code",
   "execution_count": null,
   "metadata": {},
   "outputs": [],
   "source": []
  }
 ],
 "metadata": {
  "accelerator": "GPU",
  "colab": {
   "gpuType": "T4",
   "provenance": []
  },
  "kernelspec": {
   "display_name": "Python 3 (ipykernel)",
   "language": "python",
   "name": "python3"
  },
  "language_info": {
   "codemirror_mode": {
    "name": "ipython",
    "version": 3
   },
   "file_extension": ".py",
   "mimetype": "text/x-python",
   "name": "python",
   "nbconvert_exporter": "python",
   "pygments_lexer": "ipython3",
   "version": "3.10.6"
  }
 },
 "nbformat": 4,
 "nbformat_minor": 0
}
